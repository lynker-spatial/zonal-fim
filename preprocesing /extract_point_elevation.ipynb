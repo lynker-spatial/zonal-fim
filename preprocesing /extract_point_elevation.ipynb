{
 "cells": [
  {
   "cell_type": "markdown",
   "metadata": {},
   "source": [
    "# Library"
   ]
  },
  {
   "cell_type": "code",
   "execution_count": 1,
   "metadata": {},
   "outputs": [],
   "source": [
    "import cfimvis.tools.geometry_manipulation as gm"
   ]
  },
  {
   "cell_type": "markdown",
   "metadata": {},
   "source": [
    "Here we extract and store elevation values form the source DEM as table in duckdb to avoid costly raster manipulations"
   ]
  },
  {
   "cell_type": "code",
   "execution_count": null,
   "metadata": {},
   "outputs": [],
   "source": [
    "# Variables\n",
    "s3_path = 'path/to/s3/DEM.tif'\n",
    "database_path = 'path/to/database.duckdb' # Path to the database containing the DEM SCHISIM data"
   ]
  },
  {
   "cell_type": "code",
   "execution_count": null,
   "metadata": {},
   "outputs": [],
   "source": [
    "print('Extracting elevation for nodes ...')\n",
    "gm.extract_elevation(s3_path=s3_path, database_path=database_path)\n",
    "print('Elevation extraction complete.\\n')"
   ]
  },
  {
   "cell_type": "markdown",
   "metadata": {},
   "source": [
    "The elevation table is now saved as nodes_elevation table int duckdb"
   ]
  }
 ],
 "metadata": {
  "kernelspec": {
   "display_name": "coastal_fim_vis",
   "language": "python",
   "name": "python3"
  },
  "language_info": {
   "codemirror_mode": {
    "name": "ipython",
    "version": 3
   },
   "file_extension": ".py",
   "mimetype": "text/x-python",
   "name": "python",
   "nbconvert_exporter": "python",
   "pygments_lexer": "ipython3",
   "version": "3.12.1"
  }
 },
 "nbformat": 4,
 "nbformat_minor": 2
}
