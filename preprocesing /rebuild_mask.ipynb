{
 "cells": [
  {
   "cell_type": "markdown",
   "metadata": {},
   "source": [
    "# Library"
   ]
  },
  {
   "cell_type": "code",
   "execution_count": 11,
   "metadata": {},
   "outputs": [],
   "source": [
    "import cfimvis.tools.mask_bounds as mb"
   ]
  },
  {
   "cell_type": "markdown",
   "metadata": {},
   "source": [
    "# Regenerate mask database"
   ]
  },
  {
   "cell_type": "markdown",
   "metadata": {},
   "source": [
    "Generate a single mask from all 5 stages of masking \n",
    "\n",
    "**Implement 5 step masking logic**\n",
    "1. \"mask_schism_boundary_atlantic.shp\",\"exterior\"\n",
    "2. \"mask_state_boundaries_conus.shp\",\"exterior\"\n",
    "3. \"mask_levee_protected_area_conus.shp\",\"interior\"\n",
    "4. \"mask_nwm_lakes_conus.shp\",\"interior\"\n",
    "5. \"mask_water_polygon_conus.shp\",\"interior\" \n",
    "\n",
    "and then mask the SCHISIM triangles elements using step5"
   ]
  },
  {
   "cell_type": "code",
   "execution_count": 14,
   "metadata": {},
   "outputs": [],
   "source": [
    "# Data ingestion\n",
    "..."
   ]
  },
  {
   "cell_type": "code",
   "execution_count": 12,
   "metadata": {},
   "outputs": [],
   "source": [
    "# Variables\n",
    "mask_database_path = '/path_to_database/masks.duckdb'\n",
    "triangles_path = '/path_to_database/traingles.parquet'\n",
    "schisim_table_name = 'exterior_mask_schism_boundary_atlantic_buffer_atlgulf'\n",
    "state_table_name = 'exterior_mask_state_boundaries_conus_atlgulf'\n",
    "levee_table_name = 'interior_mask_levee_protected_area_conus_atlgulf'\n",
    "nwm_table_name = 'interior_mask_nwm_lakes_conus_atlgulf'\n",
    "water_table_name = 'interior_mask_water_polygon_conus_atlgulf'\n",
    "dissolve = True"
   ]
  },
  {
   "cell_type": "code",
   "execution_count": null,
   "metadata": {},
   "outputs": [],
   "source": [
    "print('Creating single mask ...')\n",
    "mb.create_general_mask(database_path=mask_database_path, triangles_path=triangles_path, \n",
    "                       schisim_table_name=schisim_table_name, state_table_name=state_table_name, \n",
    "                       levee_table_name=levee_table_name, nwm_table_name=nwm_table_name, \n",
    "                       water_table_name=water_table_name, dissolve=dissolve) \n",
    "print('Masking complete. \\n')"
   ]
  },
  {
   "cell_type": "markdown",
   "metadata": {},
   "source": [
    "**The General mask is now generated and is used to filter SCHISIM triangles elements**  "
   ]
  }
 ],
 "metadata": {
  "kernelspec": {
   "display_name": "coastal_fim_vis",
   "language": "python",
   "name": "python3"
  },
  "language_info": {
   "codemirror_mode": {
    "name": "ipython",
    "version": 3
   },
   "file_extension": ".py",
   "mimetype": "text/x-python",
   "name": "python",
   "nbconvert_exporter": "python",
   "pygments_lexer": "ipython3",
   "version": "3.12.1"
  }
 },
 "nbformat": 4,
 "nbformat_minor": 2
}
