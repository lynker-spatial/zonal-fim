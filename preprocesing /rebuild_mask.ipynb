{
 "cells": [
  {
   "cell_type": "markdown",
   "metadata": {},
   "source": [
    "# Library"
   ]
  },
  {
   "cell_type": "code",
   "execution_count": 15,
   "metadata": {},
   "outputs": [],
   "source": [
    "import cfimvis.tools.mask_bounds as mb\n",
    "import cfimvis.tools.make_masks_duckdb as mmd"
   ]
  },
  {
   "cell_type": "markdown",
   "metadata": {},
   "source": [
    "# Regenerate mask database"
   ]
  },
  {
   "cell_type": "markdown",
   "metadata": {},
   "source": [
    "Generate a single mask from all 5 stages of masking \n",
    "\n",
    "**Implement 5 step masking logic**\n",
    "1. \"mask_schism_boundary_atlantic.shp\",\"exterior\"\n",
    "2. \"mask_state_boundaries_conus.shp\",\"exterior\"\n",
    "3. \"mask_levee_protected_area_conus.shp\",\"interior\"\n",
    "4. \"mask_nwm_lakes_conus.shp\",\"interior\"\n",
    "5. \"mask_water_polygon_conus.shp\",\"interior\" \n",
    "\n",
    "and then mask the SCHISIM triangles elements using step5"
   ]
  },
  {
   "cell_type": "markdown",
   "metadata": {},
   "source": [
    "## 1. Data ingestion"
   ]
  },
  {
   "cell_type": "code",
   "execution_count": null,
   "metadata": {},
   "outputs": [],
   "source": [
    "# Variables\n",
    "zip_folder_path = \"/path/to/zipped\" # path to folder contianing zipped files of all the 5 masks\n",
    "mask_database_path = '/path_to_database/masks.duckdb' # path to the database where the masks will be stored"
   ]
  },
  {
   "cell_type": "markdown",
   "metadata": {},
   "source": [
    "![image.png](../assets/images/masks_zip.png)"
   ]
  },
  {
   "cell_type": "code",
   "execution_count": 14,
   "metadata": {},
   "outputs": [],
   "source": [
    "# Ingest masks to duckdb\n",
    "mmd.make_masks_duckdb(zip_folder_path, mask_database_path)"
   ]
  },
  {
   "cell_type": "markdown",
   "metadata": {},
   "source": [
    "## 2. Generate overall mask and filter"
   ]
  },
  {
   "cell_type": "code",
   "execution_count": 12,
   "metadata": {},
   "outputs": [],
   "source": [
    "# Variables\n",
    "mask_database_path = '/path_to_database/masks.duckdb'\n",
    "triangles_path = '/path_to_database/traingles.parquet'\n",
    "schisim_table_name = 'exterior_mask_schism_boundary_atlantic_buffer_atlgulf'\n",
    "state_table_name = 'exterior_mask_state_boundaries_conus_atlgulf'\n",
    "levee_table_name = 'interior_mask_levee_protected_area_conus_atlgulf'\n",
    "nwm_table_name = 'interior_mask_nwm_lakes_conus_atlgulf'\n",
    "water_table_name = 'interior_mask_water_polygon_conus_atlgulf'\n",
    "dissolve = True"
   ]
  },
  {
   "cell_type": "code",
   "execution_count": null,
   "metadata": {},
   "outputs": [],
   "source": [
    "print('Creating single mask ...')\n",
    "mb.create_general_mask(database_path=mask_database_path, triangles_path=triangles_path, \n",
    "                       schisim_table_name=schisim_table_name, state_table_name=state_table_name, \n",
    "                       levee_table_name=levee_table_name, nwm_table_name=nwm_table_name, \n",
    "                       water_table_name=water_table_name, dissolve=dissolve) \n",
    "print('Masking complete. \\n')"
   ]
  },
  {
   "cell_type": "markdown",
   "metadata": {},
   "source": [
    "**The general mask is now generated and is used to filter SCHISIM triangles elements**  "
   ]
  }
 ],
 "metadata": {
  "kernelspec": {
   "display_name": "coastal_fim_vis",
   "language": "python",
   "name": "python3"
  },
  "language_info": {
   "codemirror_mode": {
    "name": "ipython",
    "version": 3
   },
   "file_extension": ".py",
   "mimetype": "text/x-python",
   "name": "python",
   "nbconvert_exporter": "python",
   "pygments_lexer": "ipython3",
   "version": "3.12.1"
  }
 },
 "nbformat": 4,
 "nbformat_minor": 2
}
