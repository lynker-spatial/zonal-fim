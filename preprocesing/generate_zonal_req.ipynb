{
 "cells": [
  {
   "cell_type": "markdown",
   "metadata": {},
   "source": [
    "# Library"
   ]
  },
  {
   "cell_type": "code",
   "execution_count": 1,
   "metadata": {},
   "outputs": [],
   "source": [
    "from cfimvis.tools.format_data import exctract_mask"
   ]
  },
  {
   "cell_type": "markdown",
   "metadata": {},
   "source": [
    "From the preprocessing step.1 we have generated a ElementPolygons.gpkg elements file from SCHISIM model and ElementPolygons.gpkg  was written to the output_folder_path"
   ]
  },
  {
   "cell_type": "markdown",
   "metadata": {},
   "source": [
    "Next step is to include area mask and extract it form mask database and put it to the same geopackage file for zonal processing (make sure the ElementPolygons.gpkg file is located in output_folder_path and is not moved)"
   ]
  },
  {
   "cell_type": "code",
   "execution_count": null,
   "metadata": {},
   "outputs": [],
   "source": [
    "exctract_mask(mask_database_path='/path_to_mask_database/masks.duckdb', output_folder_path='output_folder_path')"
   ]
  },
  {
   "cell_type": "markdown",
   "metadata": {},
   "source": [
    "**Now the R script is ready to be executed**"
   ]
  }
 ],
 "metadata": {
  "kernelspec": {
   "display_name": "coastal_fim_vis",
   "language": "python",
   "name": "python3"
  },
  "language_info": {
   "codemirror_mode": {
    "name": "ipython",
    "version": 3
   },
   "file_extension": ".py",
   "mimetype": "text/x-python",
   "name": "python",
   "nbconvert_exporter": "python",
   "pygments_lexer": "ipython3",
   "version": "3.12.1"
  }
 },
 "nbformat": 4,
 "nbformat_minor": 2
}
